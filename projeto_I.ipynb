version https://git-lfs.github.com/spec/v1
oid sha256:c1fcaa18dca0e42d8d0c25d2ced7d22fdf52d3d1623078b28346adc1bae1ece3
size 270844191
